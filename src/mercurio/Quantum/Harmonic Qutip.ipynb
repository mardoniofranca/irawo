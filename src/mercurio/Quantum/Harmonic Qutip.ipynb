{
 "cells": [
  {
   "cell_type": "code",
   "execution_count": 1,
   "id": "818d5e35",
   "metadata": {},
   "outputs": [],
   "source": [
    "import numpy as np\n",
    "import matplotlib.pyplot as plt\n",
    "from qutip import *"
   ]
  },
  {
   "cell_type": "code",
   "execution_count": 2,
   "id": "aeaba897",
   "metadata": {},
   "outputs": [],
   "source": [
    "# Definir parâmetros do sistema\n",
    "omega = 1.0 # Frequência do oscilador harmônico\n",
    "N = 5 # Número de estados da base\n",
    "\n",
    "# Definir operadores de criação e destruição\n",
    "a = destroy(N)\n",
    "\n",
    "# Construir Hamiltoniano do oscilador harmônico\n",
    "H = omega * (a.dag() * a + 1/2)"
   ]
  },
  {
   "cell_type": "code",
   "execution_count": 3,
   "id": "3260cea3",
   "metadata": {},
   "outputs": [],
   "source": [
    "# Definir estado inicial do sistema\n",
    "n = 2 # Número de fótons no estado inicial\n",
    "psi0 = (basis(N, n) + basis(N, n+1)).unit()"
   ]
  },
  {
   "cell_type": "code",
   "execution_count": 4,
   "id": "adb355d0",
   "metadata": {},
   "outputs": [],
   "source": [
    "# Definir tempos de evolução temporal\n",
    "tlist = np.linspace(0, 10, 100)"
   ]
  },
  {
   "cell_type": "code",
   "execution_count": 5,
   "id": "452ddadf",
   "metadata": {},
   "outputs": [],
   "source": [
    "# Calcular evolução temporal do sistema\n",
    "result = mesolve(H, psi0, tlist, [], [a.dag() * a])"
   ]
  },
  {
   "cell_type": "code",
   "execution_count": 6,
   "id": "915ae89e",
   "metadata": {},
   "outputs": [
    {
     "data": {
      "image/png": "[encoded data removed]",
      "text/plain": [
       "<Figure size 432x288 with 1 Axes>"
      ]
     },
     "metadata": {
      "needs_background": "light"
     },
     "output_type": "display_data"
    }
   ],
   "source": [
    "# Visualizar evolução temporal do sistema\n",
    "plt.plot(tlist, result.expect[0])\n",
    "plt.xlabel('Tempo')\n",
    "plt.ylabel('Número de fótons')\n",
    "plt.show()"
   ]
  },
  {
   "cell_type": "code",
   "execution_count": null,
   "id": "4f540102",
   "metadata": {},
   "outputs": [],
   "source": []
  }
 ],
 "metadata": {
  "kernelspec": {
   "display_name": "Python 3 (ipykernel)",
   "language": "python",
   "name": "python3"
  },
  "language_info": {
   "codemirror_mode": {
    "name": "ipython",
    "version": 3
   },
   "file_extension": ".py",
   "mimetype": "text/x-python",
   "name": "python",
   "nbconvert_exporter": "python",
   "pygments_lexer": "ipython3",
   "version": "3.10.6"
  }
 },
 "nbformat": 4,
 "nbformat_minor": 5
}
