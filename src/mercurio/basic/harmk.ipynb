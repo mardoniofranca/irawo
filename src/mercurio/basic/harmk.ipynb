{
 "cells": [
  {
   "cell_type": "code",
   "execution_count": 1,
   "id": "b9998d9b",
   "metadata": {},
   "outputs": [
    {
     "name": "stdout",
     "output_type": "stream",
     "text": [
      "Estado 00000: 1.0\n"
     ]
    }
   ],
   "source": [
    "from qiskit import QuantumCircuit, ClassicalRegister, QuantumRegister\n",
    "from qiskit import Aer, execute\n",
    "import numpy as np\n",
    "\n",
    "# Definir parâmetros do sistema\n",
    "omega = 1.0 # Frequência do oscilador harmônico\n",
    "N = 5 # Número de estados da base\n",
    "\n",
    "# Inicializar registradores quânticos e clássicos\n",
    "q = QuantumRegister(N, 'q')\n",
    "c = ClassicalRegister(N, 'c')\n",
    "qc = QuantumCircuit(q, c)\n",
    "\n",
    "# Construir Hamiltoniano do oscilador harmônico\n",
    "for i in range(N):\n",
    "    qc.h(q[i])\n",
    "    qc.rz(2 * np.pi * omega * i, q[i])\n",
    "    qc.h(q[i])\n",
    "\n",
    "# Medir os estados do sistema na base computacional\n",
    "qc.measure(q, c)\n",
    "\n",
    "# Executar circuito quântico em um simulador\n",
    "backend = Aer.get_backend('qasm_simulator')\n",
    "job = execute(qc, backend=backend, shots=1024)\n",
    "result = job.result()\n",
    "\n",
    "# Imprimir resultados da simulação\n",
    "counts = result.get_counts(qc)\n",
    "for state, count in counts.items():\n",
    "    print(f\"Estado {state}: {count/1024}\")\n"
   ]
  },
  {
   "cell_type": "code",
   "execution_count": 6,
   "id": "f8b21110",
   "metadata": {},
   "outputs": [],
   "source": [
    "from qiskit import QuantumCircuit, Aer, execute\n",
    "import numpy as np\n",
    "import matplotlib.pyplot as plt\n",
    "\n",
    "# Definir parâmetros do sistema\n",
    "omega = 1.0 # Frequência de oscilação\n",
    "timesteps = 100 # Número de intervalos de tempo\n",
    "total_time = 10 # Tempo total de simulação\n",
    "\n",
    "# Definir qubits e circuito quântico\n",
    "qubits = 1\n",
    "qc = QuantumCircuit(qubits)\n",
    "\n",
    "# Inicializar estado do oscilador harmônico quântico\n",
    "qc.h(0)\n",
    "\n",
    "# Aplicar operador de evolução temporal\n",
    "for i in range(timesteps):\n",
    "    qc.rz(-omega * total_time / timesteps, 0)\n",
    "    qc.ry(np.pi / 2, 0)\n",
    "    qc.rz(-2 * omega * total_time / timesteps, 0)\n",
    "    qc.ry(np.pi / 2, 0)\n",
    "    qc.rz(-omega * total_time / timesteps, 0)"
   ]
  },
  {
   "cell_type": "code",
   "execution_count": 9,
   "id": "238a8ad1",
   "metadata": {},
   "outputs": [
    {
     "data": {
      "image/png": "[encoded data removed]",
      "text/plain": [
       "<Figure size 432x288 with 1 Axes>"
      ]
     },
     "metadata": {
      "needs_background": "light"
     },
     "output_type": "display_data"
    }
   ],
   "source": [
    "# Simular circuito quântico\n",
    "backend = Aer.get_backend('statevector_simulator')\n",
    "result = execute(qc, backend).result()\n",
    "statevector = result.get_statevector(qc)\n",
    "\n",
    "# Calcular expectativa do operador de posição\n",
    "position_op = np.array([[0, 1], [1, 0]])\n",
    "position_expectation = np.abs(np.vdot(statevector, np.kron(position_op, np.identity(2**(qubits-1))).dot(statevector))) ** 2\n",
    "\n",
    "# Plotar evolução temporal da expectativa do operador de posição\n",
    "time = np.linspace(0, total_time, timesteps)\n",
    "plt.plot(time, [position_expectation] * timesteps)\n",
    "plt.xlabel('Tempo')\n",
    "plt.ylabel('Expectativa do operador de posição')\n",
    "plt.show()\n"
   ]
  },
  {
   "cell_type": "code",
   "execution_count": null,
   "id": "d859aa88",
   "metadata": {},
   "outputs": [],
   "source": []
  }
 ],
 "metadata": {
  "kernelspec": {
   "display_name": "Python 3 (ipykernel)",
   "language": "python",
   "name": "python3"
  },
  "language_info": {
   "codemirror_mode": {
    "name": "ipython",
    "version": 3
   },
   "file_extension": ".py",
   "mimetype": "text/x-python",
   "name": "python",
   "nbconvert_exporter": "python",
   "pygments_lexer": "ipython3",
   "version": "3.9.12"
  }
 },
 "nbformat": 4,
 "nbformat_minor": 5
}
