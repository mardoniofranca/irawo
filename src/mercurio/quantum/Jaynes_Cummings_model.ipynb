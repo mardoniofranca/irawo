{
 "cells": [
  {
   "cell_type": "code",
   "execution_count": 1,
   "id": "fcc3529e",
   "metadata": {},
   "outputs": [],
   "source": [
    "import numpy as np\n",
    "from qutip import *"
   ]
  },
  {
   "cell_type": "code",
   "execution_count": 2,
   "id": "a339b8fd",
   "metadata": {},
   "outputs": [],
   "source": [
    "# Define the parameters of the system\n",
    "N = 5 # number of Fock states to include in the field\n",
    "wc = 1.0 # cavity frequency\n",
    "wa = 1.0 # atom frequency\n",
    "g = 0.1 # atom-field coupling strength"
   ]
  },
  {
   "cell_type": "code",
   "execution_count": 3,
   "id": "ba67fc7d",
   "metadata": {},
   "outputs": [],
   "source": [
    "# Define the operators for the system\n",
    "a = tensor(destroy(N), qeye(2))\n",
    "sm = tensor(qeye(N), destroy(2))\n",
    "n = a.dag() * a\n",
    "sz = sm.dag() * sm"
   ]
  },
  {
   "cell_type": "code",
   "execution_count": 4,
   "id": "337a70dd",
   "metadata": {},
   "outputs": [],
   "source": [
    "# Define the Hamiltonian\n",
    "H = wc * n + wa * sz + g * (a.dag() * sm + a * sm.dag())"
   ]
  },
  {
   "cell_type": "code",
   "execution_count": 5,
   "id": "23a5add9",
   "metadata": {},
   "outputs": [],
   "source": [
    "# Define the initial state\n",
    "psi0 = tensor(basis(N, 0), basis(2, 0))"
   ]
  },
  {
   "cell_type": "code",
   "execution_count": 15,
   "id": "b226b0d4",
   "metadata": {},
   "outputs": [],
   "source": [
    "# Define the time vector for the simulation\n",
    "tlist = np.linspace(0, 50,500)"
   ]
  },
  {
   "cell_type": "code",
   "execution_count": 16,
   "id": "9c8702c3",
   "metadata": {},
   "outputs": [],
   "source": [
    "# Perform the simulation\n",
    "result = mesolve(H, psi0, tlist, [], [n, sz])"
   ]
  },
  {
   "cell_type": "code",
   "execution_count": 17,
   "id": "db3f7203",
   "metadata": {},
   "outputs": [
    {
     "data": {
      "image/png": "[encoded data removed]",
      "text/plain": [
       "<Figure size 432x288 with 1 Axes>"
      ]
     },
     "metadata": {
      "needs_background": "light"
     },
     "output_type": "display_data"
    }
   ],
   "source": [
    "# Plot the results\n",
    "import matplotlib.pyplot as plt\n",
    "plt.plot(result.times, result.expect[0], label='Cavity')\n",
    "plt.plot(result.times, result.expect[1], label='Atom')\n",
    "plt.legend()\n",
    "plt.show()"
   ]
  },
  {
   "cell_type": "code",
   "execution_count": null,
   "id": "7b848db6",
   "metadata": {},
   "outputs": [],
   "source": []
  }
 ],
 "metadata": {
  "kernelspec": {
   "display_name": "Python 3 (ipykernel)",
   "language": "python",
   "name": "python3"
  },
  "language_info": {
   "codemirror_mode": {
    "name": "ipython",
    "version": 3
   },
   "file_extension": ".py",
   "mimetype": "text/x-python",
   "name": "python",
   "nbconvert_exporter": "python",
   "pygments_lexer": "ipython3",
   "version": "3.10.6"
  }
 },
 "nbformat": 4,
 "nbformat_minor": 5
}
